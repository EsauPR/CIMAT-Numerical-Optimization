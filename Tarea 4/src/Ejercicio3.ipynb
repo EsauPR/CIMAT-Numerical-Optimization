{
  "nbformat": 4,
  "nbformat_minor": 0,
  "metadata": {
    "kernelspec": {
      "display_name": "Python 3",
      "language": "python",
      "name": "python3"
    },
    "language_info": {
      "codemirror_mode": {
        "name": "ipython",
        "version": 3
      },
      "file_extension": ".py",
      "mimetype": "text/x-python",
      "name": "python",
      "nbconvert_exporter": "python",
      "pygments_lexer": "ipython3",
      "version": "3.6.7"
    },
    "colab": {
      "name": "Ejercicio3.ipynb",
      "provenance": [],
      "collapsed_sections": [],
      "toc_visible": true
    }
  },
  "cells": [
    {
      "cell_type": "markdown",
      "metadata": {
        "id": "f3PPrXAsAWMu",
        "colab_type": "text"
      },
      "source": [
        "# Tarea 4: Optimización \n",
        "\n",
        "## Oscar Esaú Peralta Rosales\n",
        "\n",
        "\n",
        "Select from train set[0] and train set[1] the set of observations $S = \\{(x_i, y_i\\}$ with $x_i ∈ R^{784}$ and $y_i ∈ \\{0, 1\\}$ and estimate the parameters $\\beta,\\ \\beta_0$ that maximizes the function\n",
        "\n",
        "$$\n",
        "h(\\beta, \\beta_0)= \\sum_{i=1}^{n} y_i log\\pi_i + (1-y_i)log(1-\\pi_i)\n",
        "$$\n",
        "\n",
        "$$\n",
        "pi_i:= pi_i(\\beta, \\beta_0) = \\frac{1}{1 + \\exp(-x_i^T \\beta - \\beta_0)}\n",
        "$$\n",
        "\n",
        "using the set $S$. Select one optimization method implemented in the home-\n",
        "work for computing $\\beta, \\beta_0$.\n",
        "\n",
        "Select from test $set[0]$ and test $set[1]$ the set $T = {(x_i , y_i )}$ such that $x_i \\in R^{784}$ and $y_i ∈ {0, 1}$ and compute the error\n",
        "\n",
        "$$\n",
        "error = \\frac{1}{|\\tau|} \\sum_{x_i,y_i \\in \\tau} |1_{\\pi_i(\\beta, \\beta_0) > 0.5} (x_i) - y_i|\n",
        "$$\n",
        "\n",
        "where $|\\tau|$ represents the number of elements of the set $\\tau$.\n",
        "\n"
      ]
    },
    {
      "cell_type": "markdown",
      "metadata": {
        "id": "mY9LpBa6DE91",
        "colab_type": "text"
      },
      "source": [
        "## Lectura de datos"
      ]
    },
    {
      "cell_type": "code",
      "metadata": {
        "id": "zvrBc979AHgH",
        "colab_type": "code",
        "colab": {}
      },
      "source": [
        "%matplotlib inline"
      ],
      "execution_count": 0,
      "outputs": []
    },
    {
      "cell_type": "code",
      "metadata": {
        "id": "8a1C-NqdAHg9",
        "colab_type": "code",
        "colab": {}
      },
      "source": [
        "import time\n",
        "\n",
        "from typing import Callable, Dict, Tuple\n",
        "from collections import namedtuple\n",
        "\n",
        "import numpy as np\n",
        "import matplotlib.pyplot as plt\n"
      ],
      "execution_count": 0,
      "outputs": []
    },
    {
      "cell_type": "code",
      "metadata": {
        "id": "T2GdJw3SAHhX",
        "colab_type": "code",
        "outputId": "c7952e7b-e038-44ed-856e-c47534a36778",
        "colab": {
          "base_uri": "https://localhost:8080/",
          "height": 69
        }
      },
      "source": [
        "import gzip, pickle\n",
        "with gzip.open('mnist.pkl.gz','rb') as ff :\n",
        "    u = pickle._Unpickler( ff )\n",
        "    u.encoding = 'latin1'\n",
        "    train, val, test = u.load()\n",
        "\n",
        "\n",
        "print( train[0].shape, train[1].shape )\n",
        "print( val[0].shape, val[1].shape )\n",
        "print( test[0].shape, test[1].shape )"
      ],
      "execution_count": 0,
      "outputs": [
        {
          "output_type": "stream",
          "text": [
            "(50000, 784) (50000,)\n",
            "(10000, 784) (10000,)\n",
            "(10000, 784) (10000,)\n"
          ],
          "name": "stdout"
        }
      ]
    },
    {
      "cell_type": "code",
      "metadata": {
        "id": "-QWFSlxOAHhs",
        "colab_type": "code",
        "outputId": "7abae6b7-80fc-42c2-a1be-6f3b98b6e702",
        "colab": {
          "base_uri": "https://localhost:8080/",
          "height": 282
        }
      },
      "source": [
        "idimg = 10\n",
        "\n",
        "im =  train[0][idimg,:].reshape(-1, 28) \n",
        "\n",
        "plt.imshow(im)\n",
        "print('clase: ', train[1][idimg])"
      ],
      "execution_count": 0,
      "outputs": [
        {
          "output_type": "stream",
          "text": [
            "clase:  3\n"
          ],
          "name": "stdout"
        },
        {
          "output_type": "display_data",
          "data": {
            "image/png": "[encoded data removed]",
            "text/plain": [
              "<Figure size 432x288 with 1 Axes>"
            ]
          },
          "metadata": {
            "tags": []
          }
        }
      ]
    },
    {
      "cell_type": "markdown",
      "metadata": {
        "id": "SQ578sQgAHh-",
        "colab_type": "text"
      },
      "source": [
        "## Select data"
      ]
    },
    {
      "cell_type": "code",
      "metadata": {
        "id": "oBa5t4ZXDfTn",
        "colab_type": "code",
        "colab": {}
      },
      "source": [
        "def select_01(data, normalize=False):\n",
        "    index_data = np.logical_or(data[1] == 0, data[1] == 1)\n",
        "    x = data[0][index_data]\n",
        "    y = data[1][index_data]\n",
        "    \n",
        "    if normalize:\n",
        "        x /= np.linalg.norm(x, axis=1)[:,None]\n",
        "\n",
        "    return x, y"
      ],
      "execution_count": 0,
      "outputs": []
    },
    {
      "cell_type": "code",
      "metadata": {
        "id": "W6u6Fr6kDhD1",
        "colab_type": "code",
        "outputId": "f06e8e59-af2e-4076-aafb-fcbe2aceb8da",
        "colab": {
          "base_uri": "https://localhost:8080/",
          "height": 34
        }
      },
      "source": [
        "x_train, y_train = select_01(train, normalize=False)\n",
        "x_train.shape, y_train.shape"
      ],
      "execution_count": 0,
      "outputs": [
        {
          "output_type": "execute_result",
          "data": {
            "text/plain": [
              "((10610, 784), (10610,))"
            ]
          },
          "metadata": {
            "tags": []
          },
          "execution_count": 42
        }
      ]
    },
    {
      "cell_type": "code",
      "metadata": {
        "id": "uoDdHM8FELLL",
        "colab_type": "code",
        "outputId": "8154e1de-092c-4f13-ff0d-e3f9d8c8b514",
        "colab": {
          "base_uri": "https://localhost:8080/",
          "height": 34
        }
      },
      "source": [
        "x_val, y_val = select_01(val, normalize=False)\n",
        "x_val.shape, y_val.shape"
      ],
      "execution_count": 0,
      "outputs": [
        {
          "output_type": "execute_result",
          "data": {
            "text/plain": [
              "((2055, 784), (2055,))"
            ]
          },
          "metadata": {
            "tags": []
          },
          "execution_count": 43
        }
      ]
    },
    {
      "cell_type": "code",
      "metadata": {
        "id": "nKFaY5n6ENND",
        "colab_type": "code",
        "outputId": "bb2901b8-6b9e-47b3-b3b6-e27350245ef7",
        "colab": {
          "base_uri": "https://localhost:8080/",
          "height": 34
        }
      },
      "source": [
        "x_test, y_test = select_01(test, normalize=False)\n",
        "x_test.shape, y_test.shape"
      ],
      "execution_count": 0,
      "outputs": [
        {
          "output_type": "execute_result",
          "data": {
            "text/plain": [
              "((2115, 784), (2115,))"
            ]
          },
          "metadata": {
            "tags": []
          },
          "execution_count": 249
        }
      ]
    },
    {
      "cell_type": "markdown",
      "metadata": {
        "id": "ssViX_qBEVW2",
        "colab_type": "text"
      },
      "source": [
        "## Función"
      ]
    },
    {
      "cell_type": "code",
      "metadata": {
        "id": "AaqA9Fn9EhNu",
        "colab_type": "code",
        "colab": {}
      },
      "source": [
        "\n",
        "\n",
        "def pi(w, theta):\n",
        "    return 1.0 / (1.0 + np.exp(- w @ theta))\n",
        "\n",
        "def f(theta, w, y, eps=1e-16):\n",
        "    _pi = pi(w, theta)\n",
        "    _pi2 = 1 - _pi\n",
        "\n",
        "    _pi[_pi == 0] = eps\n",
        "    _pi2[_pi2 == 0] = eps\n",
        "    \n",
        "    return - np.sum( y * np.log(_pi) + (1.0 - y) * np.log(_pi2) )\n",
        "\n",
        "\n",
        "def f_grad(theta, w, y, eps=1.0):\n",
        "    _pi = pi(w, theta)\n",
        "    _pi2 = 1 - _pi\n",
        "\n",
        "    return - np.sum((y * (_pi2) * w.T  - (1.0 - y) * _pi * w.T), axis=1)\n",
        "    "
      ],
      "execution_count": 0,
      "outputs": []
    },
    {
      "cell_type": "code",
      "metadata": {
        "id": "ZZhWVAaQEjj4",
        "colab_type": "code",
        "colab": {}
      },
      "source": [
        "def to_w(x):\n",
        "    w = np.zeros((x.shape[0], x.shape[1]+1), dtype=float)\n",
        "    for index in range(w.shape[0]):\n",
        "        w[index] = np.concatenate((x[index], [1.0]))\n",
        "    return w"
      ],
      "execution_count": 0,
      "outputs": []
    },
    {
      "cell_type": "code",
      "metadata": {
        "id": "7jTt9g72ABOm",
        "colab_type": "code",
        "colab": {}
      },
      "source": [
        "w = to_w(x_train)"
      ],
      "execution_count": 0,
      "outputs": []
    },
    {
      "cell_type": "code",
      "metadata": {
        "id": "Z-yYZsyTA7es",
        "colab_type": "code",
        "outputId": "8d610228-04cb-4d11-cf3b-904ae55dd25e",
        "colab": {
          "base_uri": "https://localhost:8080/",
          "height": 52
        }
      },
      "source": [
        "print(w.shape)\n",
        "w[:,784]"
      ],
      "execution_count": 0,
      "outputs": [
        {
          "output_type": "stream",
          "text": [
            "(10610, 785)\n"
          ],
          "name": "stdout"
        },
        {
          "output_type": "execute_result",
          "data": {
            "text/plain": [
              "array([1., 1., 1., ..., 1., 1., 1.])"
            ]
          },
          "metadata": {
            "tags": []
          },
          "execution_count": 78
        }
      ]
    },
    {
      "cell_type": "code",
      "metadata": {
        "id": "cc-i5ORgBBms",
        "colab_type": "code",
        "colab": {}
      },
      "source": [
        "beta = np.ones(w.shape[1])"
      ],
      "execution_count": 0,
      "outputs": []
    },
    {
      "cell_type": "code",
      "metadata": {
        "id": "7ibhT2HSBCGF",
        "colab_type": "code",
        "outputId": "7fbcee6d-33f9-413d-83f4-08bbc2968a9b",
        "colab": {
          "base_uri": "https://localhost:8080/",
          "height": 34
        }
      },
      "source": [
        "f(beta, w, y_train, eps=1e-6)"
      ],
      "execution_count": 0,
      "outputs": [
        {
          "output_type": "execute_result",
          "data": {
            "text/plain": [
              "68138.0980718824"
            ]
          },
          "metadata": {
            "tags": []
          },
          "execution_count": 312
        }
      ]
    },
    {
      "cell_type": "code",
      "metadata": {
        "id": "YJlxjiOaBFAr",
        "colab_type": "code",
        "colab": {}
      },
      "source": [
        "g = f_grad(beta, w, y_train, eps=1)"
      ],
      "execution_count": 0,
      "outputs": []
    },
    {
      "cell_type": "code",
      "metadata": {
        "id": "c3EPY79tBzBQ",
        "colab_type": "code",
        "outputId": "db05f927-5e7d-4d0a-9c17-09a4e988eef3",
        "colab": {
          "base_uri": "https://localhost:8080/",
          "height": 34
        }
      },
      "source": [
        "g.shape"
      ],
      "execution_count": 0,
      "outputs": [
        {
          "output_type": "execute_result",
          "data": {
            "text/plain": [
              "(785,)"
            ]
          },
          "metadata": {
            "tags": []
          },
          "execution_count": 188
        }
      ]
    },
    {
      "cell_type": "code",
      "metadata": {
        "id": "4UhF0LotEfyp",
        "colab_type": "code",
        "outputId": "a1683993-87fb-4d9f-8954-3e9c160386e1",
        "colab": {
          "base_uri": "https://localhost:8080/",
          "height": 34
        }
      },
      "source": [
        "np.linalg.norm(g)"
      ],
      "execution_count": 0,
      "outputs": [
        {
          "output_type": "execute_result",
          "data": {
            "text/plain": [
              "41007.38226937714"
            ]
          },
          "metadata": {
            "tags": []
          },
          "execution_count": 227
        }
      ]
    },
    {
      "cell_type": "markdown",
      "metadata": {
        "id": "XpQHUunfiAmW",
        "colab_type": "text"
      },
      "source": [
        "## Barzilain"
      ]
    },
    {
      "cell_type": "code",
      "metadata": {
        "id": "oEEs_Tpoh0v0",
        "colab_type": "code",
        "colab": {}
      },
      "source": [
        "def barzilai_borwein(X: np.array,\n",
        "                     f: Callable[[np.array], np.array],\n",
        "                     g: Callable[[np.array], np.array],\n",
        "                     tol_x: float=1e-12,\n",
        "                     tol_g: float=1e-12,\n",
        "                     tol_f: float=1e-12,\n",
        "                     mxitr: int=100,\n",
        "                     **kwargs):\n",
        "    Result = namedtuple('Result', 'x_log f_log g_norm_log')\n",
        "\n",
        "    # History of values computed\n",
        "    # x_log = []; f_log = []\n",
        "    # stop_x_log = []; stop_f_log = []; stop_g_log = []\n",
        "\n",
        "    x_log = []\n",
        "    f_log = []\n",
        "    g_norm_log = []\n",
        "\n",
        "    x_k_prev = None; \n",
        "    x_k = X;\n",
        "    x_log.append(x_k)\n",
        "\n",
        "    g_k_prev = None\n",
        "    g_k = g(x_k, **kwargs.get('g_kwargs', {}))\n",
        "    g_norm_log.append(np.linalg.norm(g_k))\n",
        "\n",
        "    f_k = f(x_k, **kwargs.get('f_kwargs', {}))\n",
        "    f_log.append(f_k)\n",
        "\n",
        "    k = 0\n",
        "    alpha_k = kwargs.get('alpha', 1e-2)\n",
        "    \n",
        "    while np.linalg.norm(g_k) > tol_g and k < mxitr:\n",
        "        if k == 0:\n",
        "            # h_k = H(x_k, **kwargs.get('g_kwargs', {}))\n",
        "            # alpha_k = (g_k @ g_k) / (g_k @ h_k @ g_k)\n",
        "            pass\n",
        "        else:\n",
        "            s_k1 = x_k - x_k_prev\n",
        "            y_k1 = g_k - g_k_prev\n",
        "            alpha_k = np.dot(s_k1, y_k1) / np.dot(y_k1, y_k1)\n",
        "            # print(k, 'alpha', alpha_k)\n",
        "        \n",
        "        x_k_prev = x_k.copy()\n",
        "        x_k = x_k_prev - alpha_k * g_k\n",
        "        x_log.append(x_k)\n",
        "\n",
        "        g_k_prev = g_k\n",
        "        g_k = g(x_k, **kwargs.get('g_kwargs', {}))\n",
        "        g_norm_log.append(np.linalg.norm(g_k))\n",
        "\n",
        "        f_k = f(x_k, **kwargs.get('f_kwargs', {}))\n",
        "        f_log.append(f_k)\n",
        "\n",
        "        # Stop criteria\n",
        "        # if stop_x(x_log[-2], x_log[-1]) <= tol_x or stop_f(f_log[-2], f_log[-1]) <= tol_f:\n",
        "        #     break\n",
        "\n",
        "        k += 1\n",
        "\n",
        "    return Result(np.array(x_log), np.array(f_log), np.array(g_norm_log))\n"
      ],
      "execution_count": 0,
      "outputs": []
    },
    {
      "cell_type": "code",
      "metadata": {
        "id": "j_Oyg0yHiC-r",
        "colab_type": "code",
        "outputId": "51b10d0e-4237-4a7b-9d93-4ed108194d8f",
        "colab": {
          "base_uri": "https://localhost:8080/",
          "height": 300
        }
      },
      "source": [
        "w = to_w(x_train)\n",
        "beta = np.ones(w.shape[1])\n",
        "\n",
        "_lambda = 1\n",
        "params = {\n",
        "    'X': beta,\n",
        "    'f': f,\n",
        "    'f_kwargs': {\n",
        "        'w': w,\n",
        "        'y': y_train,\n",
        "        'eps': 1e-16\n",
        "    },\n",
        "    'g': f_grad,\n",
        "    'g_kwargs': {\n",
        "        'w': w,\n",
        "        'y': y_train\n",
        "    },\n",
        "    'tol_x': 1e-12,\n",
        "    'tol_f': 1e-12,\n",
        "    'tol_g': 1e-12,\n",
        "    'alpha': 1e-3,\n",
        "    'mxitr': 10000\n",
        "}\n",
        "\n",
        "ans = barzilai_borwein(**params)\n",
        "\n",
        "print(len(ans.x_log), len(ans.f_log), len(ans.g_norm_log))\n",
        "# print(ans.x_log[-1])\n",
        "plt.plot(ans.g_norm_log)\n",
        "# plt.plot(ans.f_log)"
      ],
      "execution_count": 0,
      "outputs": [
        {
          "output_type": "stream",
          "text": [
            "343 343 343\n"
          ],
          "name": "stdout"
        },
        {
          "output_type": "execute_result",
          "data": {
            "text/plain": [
              "[<matplotlib.lines.Line2D at 0x7f8894db3b70>]"
            ]
          },
          "metadata": {
            "tags": []
          },
          "execution_count": 308
        },
        {
          "output_type": "display_data",
          "data": {
            "image/png": "[encoded data removed]",
            "text/plain": [
              "<Figure size 432x288 with 1 Axes>"
            ]
          },
          "metadata": {
            "tags": []
          }
        }
      ]
    },
    {
      "cell_type": "markdown",
      "metadata": {
        "id": "HD3rZAfsrrBq",
        "colab_type": "text"
      },
      "source": [
        ""
      ]
    },
    {
      "cell_type": "code",
      "metadata": {
        "id": "bYDgl5KsyUPG",
        "colab_type": "code",
        "outputId": "26b1cb13-1381-43f5-9bfc-93504f946a69",
        "colab": {
          "base_uri": "https://localhost:8080/",
          "height": 34
        }
      },
      "source": [
        "ans.g_norm_log[-1]"
      ],
      "execution_count": 0,
      "outputs": [
        {
          "output_type": "execute_result",
          "data": {
            "text/plain": [
              "9.786370663415539e-13"
            ]
          },
          "metadata": {
            "tags": []
          },
          "execution_count": 238
        }
      ]
    },
    {
      "cell_type": "markdown",
      "metadata": {
        "id": "-RZ5GPUllwGT",
        "colab_type": "text"
      },
      "source": [
        "## Error"
      ]
    },
    {
      "cell_type": "code",
      "metadata": {
        "id": "VTbjxK1Mrsym",
        "colab_type": "code",
        "colab": {}
      },
      "source": [
        "def aprox_error(x, y, beta):\n",
        "    w = to_w(x)\n",
        "    _pi = pi(w, beta)\n",
        "    return np.mean(np.abs((_pi > 0.5) - y))"
      ],
      "execution_count": 0,
      "outputs": []
    },
    {
      "cell_type": "markdown",
      "metadata": {
        "id": "jlvdW7NG7S02",
        "colab_type": "text"
      },
      "source": [
        "Error de clasificación"
      ]
    },
    {
      "cell_type": "code",
      "metadata": {
        "id": "VNt0Dumq68rp",
        "colab_type": "code",
        "outputId": "34c8e743-48c1-465f-b03b-97d8b065fb83",
        "colab": {
          "base_uri": "https://localhost:8080/",
          "height": 34
        }
      },
      "source": [
        "aprox_error(x_test, y_test, ans.x_log[-1])"
      ],
      "execution_count": 0,
      "outputs": [
        {
          "output_type": "execute_result",
          "data": {
            "text/plain": [
              "0.00047281323877068556"
            ]
          },
          "metadata": {
            "tags": []
          },
          "execution_count": 302
        }
      ]
    },
    {
      "cell_type": "code",
      "metadata": {
        "id": "GohXTnWxuNnO",
        "colab_type": "code",
        "outputId": "71aaaebb-9874-407c-cab8-e3a1f3b62121",
        "colab": {
          "base_uri": "https://localhost:8080/",
          "height": 282
        }
      },
      "source": [
        "sol = np.array(ans.x_log[-1][:-1])\n",
        "im =  sol.reshape(-1, 28) \n",
        "plt.imshow(im)"
      ],
      "execution_count": 0,
      "outputs": [
        {
          "output_type": "execute_result",
          "data": {
            "text/plain": [
              "<matplotlib.image.AxesImage at 0x7f8894eb9588>"
            ]
          },
          "metadata": {
            "tags": []
          },
          "execution_count": 304
        },
        {
          "output_type": "display_data",
          "data": {
            "image/png": "[encoded data removed]",
            "text/plain": [
              "<Figure size 432x288 with 1 Axes>"
            ]
          },
          "metadata": {
            "tags": []
          }
        }
      ]
    },
    {
      "cell_type": "code",
      "metadata": {
        "id": "q75M52razyet",
        "colab_type": "code",
        "outputId": "8f9c4b53-48cc-4b70-eafe-7b3afbe4a57e",
        "colab": {
          "base_uri": "https://localhost:8080/",
          "height": 282
        }
      },
      "source": [
        "sol = np.array(ans.x_log[-1][:-1])\n",
        "plt.plot(sol)"
      ],
      "execution_count": 0,
      "outputs": [
        {
          "output_type": "execute_result",
          "data": {
            "text/plain": [
              "[<matplotlib.lines.Line2D at 0x7f8894e34198>]"
            ]
          },
          "metadata": {
            "tags": []
          },
          "execution_count": 306
        },
        {
          "output_type": "display_data",
          "data": {
            "image/png": "[encoded data removed]",
            "text/plain": [
              "<Figure size 432x288 with 1 Axes>"
            ]
          },
          "metadata": {
            "tags": []
          }
        }
      ]
    },
    {
      "cell_type": "code",
      "metadata": {
        "id": "gt0rFZJ2yQAz",
        "colab_type": "code",
        "colab": {}
      },
      "source": [
        ""
      ],
      "execution_count": 0,
      "outputs": []
    }
  ]
}