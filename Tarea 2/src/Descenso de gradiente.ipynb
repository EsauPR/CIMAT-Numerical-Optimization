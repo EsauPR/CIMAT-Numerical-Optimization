{
 "cells": [
  {
   "cell_type": "code",
   "execution_count": null,
   "metadata": {
    "colab": {},
    "colab_type": "code",
    "id": "izNTM2JiuToi"
   },
   "outputs": [],
   "source": [
    "from typing import Callable, Dict, Tuple\n",
    "from collections import namedtuple\n",
    "\n",
    "import numpy as np\n",
    "import matplotlib.pyplot as plt"
   ]
  },
  {
   "cell_type": "code",
   "execution_count": null,
   "metadata": {
    "cellView": "form",
    "colab": {},
    "colab_type": "code",
    "id": "szq374srudNx"
   },
   "outputs": [],
   "source": [
    "#@title Latex tables\n",
    "\n",
    "def latex_table(x, f, grad):\n",
    "    n=len(x)\n",
    "    print(\"\\\\begin{table}[]\")\n",
    "    print(\"\\\\begin{tabular}{@{}llll@{}}\")\n",
    "    print(\"k & $||x\\_{k+1}-x_k||$ & $||\\\\nabla f(x_k)||$ & $f(x_k)$ \\\\\\\\\")\n",
    "    print(\"\\\\midrule\")\n",
    "    print(\"1  &  %4E &  %4E   &  %4E  \\\\\\\\\" % (np.linalg.norm(x[1]-x[0]),np.linalg.norm(grad(x[0])),f(x[0])))\n",
    "    print(\"2  &  %4E &  %4E   &  %4E  \\\\\\\\\" % (np.linalg.norm(x[2]-x[1]),np.linalg.norm(grad(x[1])),f(x[1])))\n",
    "    print(\"3  &  %4E &  %4E   &  %4E  \\\\\\\\\" % (np.linalg.norm(x[3]-x[2]),np.linalg.norm(grad(x[2])),f(x[2])))\n",
    "    print(\"%d  &  %4E &  %4E   &  %4E \\\\\\\\\" % (n-2,np.linalg.norm(x[n-4]-x[n-3]),np.linalg.norm(grad(x[n-3])),f(x[n-3])))\n",
    "    print(\"%d  &  %4E &  %4E   &  %4E  \\\\\\\\\" % (n-1,np.linalg.norm(x[n-3]-x[n-2]),np.linalg.norm(grad(x[n-2])),f(x[n-2])))\n",
    "    print(\"%d  &  %4E &  %4E   &  %4E  \" % (n,np.linalg.norm(x[n-2]-x[n-1]),np.linalg.norm(grad(x[n-1])),f(x[n-1])))\n",
    "    print(\"\\end{tabular}\")\n",
    "    print(\"\\end{table}\")\n",
    "    return"
   ]
  },
  {
   "cell_type": "code",
   "execution_count": null,
   "metadata": {
    "cellView": "form",
    "colab": {},
    "colab_type": "code",
    "id": "SiiqycPzuevX"
   },
   "outputs": [],
   "source": [
    "#@title Graficos de contornos\n",
    "\n",
    "def make_data_grid(funct:Callable[[], np.array], \n",
    "                   start:Tuple=(-20, -20), \n",
    "                   end:Tuple=(20, 20), \n",
    "                   size:Tuple=(30, 30)) -> Tuple:\n",
    "    \"\"\" Compute the contour params \"\"\"\n",
    "    x = np.linspace(start[0], end[0], size[0])\n",
    "    y = np.linspace(start[1], end[1], size[1])\n",
    "    X1, X2 = np.meshgrid(x, y)\n",
    "    return X1, X2, [funct(x) for x in zip(X1, X2)]\n",
    "\n",
    "\n",
    "def plot_contour(x_h:np.array,\n",
    "                 funct:Callable[[], np.array], \n",
    "                 start:Tuple=(-20, -20), \n",
    "                 end:Tuple=(20, 20), \n",
    "                 size:Tuple=(30, 30)):\n",
    "    \"\"\" Plot a contour graphic for 2-D function\n",
    "        \n",
    "        Args:\n",
    "            x_h: Array with the history points to reach convergence\n",
    "            start: Tuple with start range for X1 and x2\n",
    "            end: Tuple with end range for X1 and x2\n",
    "            size: Tuple with the sample size to create a meshgrid:\n",
    "\n",
    "    \"\"\"\n",
    "    plt.figure(figsize=(12, 8))\n",
    "    \n",
    "    plt.title('Contour Plot')\n",
    "    # Dibujamos los dos contornos para las funciones f1 y f2\n",
    "    c1 = plt.contourf(*make_data_grid(funct, start=start, end=end, size=size))\n",
    "\n",
    "    plt.clabel(c1, inline=True, fontsize=10)\n",
    "\n",
    "    x, y = zip(*x_h)\n",
    "\n",
    "    plt.plot(x[1:-1], y[1:-1])\n",
    "    plt.plot([x[0]], [y[0]], marker='o', color='r')\n",
    "    plt.plot([x[-1]], [y[-1]], marker='o', color='g')\n",
    "    \n",
    "    plt.legend([\"Recorrido\", \"Punto inicial\", \"Punto final\"])\n",
    "\n",
    "    plt.grid(True)\n",
    "\n",
    "    plt.xlabel('x1')\n",
    "    plt.ylabel('x2')\n",
    "    plt.show()\n",
    "    "
   ]
  },
  {
   "cell_type": "code",
   "execution_count": null,
   "metadata": {
    "cellView": "form",
    "colab": {},
    "colab_type": "code",
    "id": "nFnIm9pVuqDt"
   },
   "outputs": [],
   "source": [
    "#@title Función 1\n",
    "\n",
    "def f1(x :np.array) -> float:\n",
    "    \"\"\" Compute the evaluation for Extended Rosembrock function with n=2 \n",
    "        Args:\n",
    "        x: Array of length=2 with x's parameters\n",
    "        \n",
    "        Returns:\n",
    "            Evaluation of f(x1, x2)\n",
    "    \"\"\"\n",
    "    return 100 * (x[1] - x[0]**2) + (1.0 - x[0])**2\n",
    "\n",
    "\n",
    "def f1_grad(x :np.array) -> np.array:\n",
    "    \"\"\" Compute the gradient evaluation for Extended Rosembrock function with n=2 \n",
    "        Args:\n",
    "        x: Array of length=2 with x's parameters\n",
    "        \n",
    "        Returns:\n",
    "            Gradient of f(x1, x2), array with lenght=2\n",
    "    \"\"\"\n",
    "    grad = np.zeros(2, dtype=np.float64)\n",
    "    grad[0] = -400.0 * x[0] * x[1] + 400 * x[0]**3 + 2*x[0] - 2.0\n",
    "    grad[1] = 200 * (x[1] - x[0]**2)\n",
    "    return grad\n",
    "\n",
    "\n",
    "def f1_hess(x :np.array) -> np.array:\n",
    "    \"\"\" Compute the Hessian evaluation for Extended Rosembrock function with n=2 \n",
    "        Args:\n",
    "        x: Array of length=2 with x's parameters\n",
    "        \n",
    "        Returns:\n",
    "            Hessian of f(x1, x2), Matrix with size=2x2\n",
    "    \"\"\"\n",
    "    hess = np.zeros((2, 2), dtype=np.float64)\n",
    "    hess[0][0] = 1200*x[0]**2 - 400*x[1] + 2\n",
    "    hess[0][1] = hess[1][0] = -400*x[0]\n",
    "    hess[1][1] = 200\n",
    "    return hess\n"
   ]
  },
  {
   "cell_type": "code",
   "execution_count": null,
   "metadata": {
    "cellView": "form",
    "colab": {},
    "colab_type": "code",
    "id": "yAi1qdbMuuzO"
   },
   "outputs": [],
   "source": [
    "#@title Función 2\n",
    "\n",
    "def f2(x :np.array, n :int=100) -> float:\n",
    "    \"\"\" Compute the evaluation for Extended Rosembrock function with n=100\n",
    "        Args:\n",
    "        x: Array of length=n with x's parameters\n",
    "        n: Rosembrock, n = 100\n",
    "        \n",
    "        Returns:\n",
    "            Evaluation of f(X)\n",
    "    \"\"\"\n",
    "    ans = 0.0\n",
    "    for i in range(n-1):\n",
    "        ans += 100 * (x[i+1] - x[i]**2)**2 + (1 - x[i])**2\n",
    "    return ans\n",
    "\n",
    "\n",
    "def f2_grad(x :np.array, n :int=100) -> np.array:\n",
    "    \"\"\" Compute the gradient evaluation for Extended Rosembrock function with n=2 \n",
    "        Args:\n",
    "        x: Array of length=n with x's parameters\n",
    "        n: Rosembrock, n = 100\n",
    "        \n",
    "        Returns:\n",
    "            Gradient of f(x1, ..., xn), array with lenght=n\n",
    "    \"\"\"\n",
    "    grad = np.zeros(n, dtype=np.float64)\n",
    "    for i in range(n-1):\n",
    "        grad[i] = -400 * x[i+1] * x[i] + 400 * x[i]**3 + 2 * x[i] -2\n",
    "    grad[n-1] = 200 * (x[n-1] - x[n-2]**2)\n",
    "    return grad\n",
    "\n",
    "\n",
    "def f2_hess(x :np.array, n :int=100) -> np.array:\n",
    "    \"\"\" Compute the Hessian evaluation for Extended Rosembrock function with n=2 \n",
    "        Args:\n",
    "        x: Array of length=n with x's parameters\n",
    "        \n",
    "        Returns:\n",
    "            Hessian of f(x1, ..., xn), Matrix with size=nxn\n",
    "    \"\"\"\n",
    "    hess = np.zeros((n, n), dtype=np.float64)\n",
    "    for i in range(n-1):\n",
    "            hess[i][i] = -400 * x[i+1] + 1200 * x[i]**2 + 2\n",
    "            hess[i][i+1] = -400 * x[i]\n",
    "    hess[n-1][n-1] = 200.0\n",
    "    return hess\n",
    "\n"
   ]
  },
  {
   "cell_type": "code",
   "execution_count": null,
   "metadata": {
    "cellView": "form",
    "colab": {},
    "colab_type": "code",
    "id": "Dz-15abQuzrw"
   },
   "outputs": [],
   "source": [
    "#@title Función 3\n",
    "\n",
    "def f3(x :np.array) -> float:\n",
    "    \"\"\" Compute the evaluation for Wood Function function with n=100\n",
    "        Args:\n",
    "        x: Array of length=4 with x's parameters\n",
    "        \n",
    "        Returns:\n",
    "            Evaluation of f(X)\n",
    "    \"\"\"\n",
    "    ans = 100 * (x[0]**2 - x[1]) + (x[0] - 1)**2 + (x[2] - 1)**2 + 90 * (x[2]**2 - x[3])**2\n",
    "    ans += 10.1 * ((x[1] - 1)**2 + (x[3] - 1)**2) + 19.8 * (x[1] - 1) * (x[3] - 1)\n",
    "    return ans\n",
    "\n",
    "\n",
    "def f3_grad(x :np.array) -> np.array:\n",
    "    \"\"\" Compute the gradient evaluation for Extended Rosembrock function with n=2 \n",
    "        Args:\n",
    "        x: Array of length=4 with x's parameters\n",
    "        \n",
    "        Returns:\n",
    "            Gradient of f(x1, x2, x3, x4), array with lenght=4\n",
    "    \"\"\"\n",
    "    grad = np.zeros(4, dtype=np.float64)\n",
    "    grad[0] = 400 * x[0]**3 - 400 * x[0] * x[1] + 2 * x[0] - 2\n",
    "    grad[1] = -200 * (x[0]**2 - x[1]) + 20.2 * (x[1] - 1) + 19.8 * x[3] - 19.8\n",
    "    grad[2] = 2 * x[2] - 2 + 360 * x[2]**3 - 360 * x[3] * x[2]\n",
    "    grad[3] = -180 * (x[2]**2 - x[3]) + 20.2 * (x[3] - 1) + 19.8 * (x[1] -1)\n",
    "    return grad\n",
    "\n",
    "\n",
    "def f3_hess(x :np.array) -> np.array:\n",
    "    \"\"\" Compute the Hessian evaluation for Extended Rosembrock function with n=2 \n",
    "        Args:\n",
    "        x: Array of length=4 with x's parameters\n",
    "        \n",
    "        Returns:\n",
    "            Hessian of f(x1, x2, x3, x4), Matrix with size=4x4\n",
    "    \"\"\"\n",
    "    hess = np.zeros((4, 4), dtype=np.float64)\n",
    "    \n",
    "    hess[0][0] = 1200 * x[0]**2 - 400 * x[1] + 2\n",
    "    hess[0][1] = hess[1][0] = -400 * x[0]\n",
    "    hess[1][1] = hess[3][3] = 220.2\n",
    "    hess[2][2] = 1080 * x[2]**2 - 360 * x[3] + 2\n",
    "    hess[3][1] = hess[1][3] = 19.8\n",
    "    hess[3][2] = hess[2][3] = -360 * x[2]\n",
    "    \n",
    "    return hess"
   ]
  },
  {
   "cell_type": "code",
   "execution_count": null,
   "metadata": {
    "cellView": "both",
    "colab": {},
    "colab_type": "code",
    "id": "UvZQs4bPu40p"
   },
   "outputs": [],
   "source": [
    "#@title Gradiente\n",
    "\n",
    "def _back_tracking(x_k: np.array, \n",
    "                   grad_k: np.array, \n",
    "                   f :Callable[[], float], \n",
    "                   alpha:float=100.0, \n",
    "                   ro:float=0.95, \n",
    "                   c1:float=1E-4) -> float:\n",
    "    \"\"\" Search by Backtraking for an step size valid \"\"\"\n",
    "    _alpha = alpha\n",
    "    # print(\"alpha\", _alpha)\n",
    "    while f(x_k - _alpha * grad_k) > f(x_k) - c1 * _alpha * grad_k @ grad_k:\n",
    "        _alpha = ro * _alpha\n",
    "        # print(\"alpha\", _alpha)\n",
    "    return _alpha\n",
    "\n",
    "\n",
    "def gradient_descent(x_0: np.array,\n",
    "                     f: Callable[[np.array], np.array],\n",
    "                     g: Callable[[np.array], np.array], \n",
    "                     H: Callable[[np.array], np.array],\n",
    "                     mxitr: int=10000,\n",
    "                     tol_x: float=1e-12,\n",
    "                     tol_f: float=1e-12,\n",
    "                     tol_g: float=1e-12,\n",
    "                     msg='StepHess',\n",
    "                     **kwargs):\n",
    "    \"\"\" Gradient descent implementation\n",
    "        \n",
    "        Args:\n",
    "            x_0: Start Point\n",
    "            mxitr: Maximun number of iterations\n",
    "            tol_x: Minimun value to reach the stopping criteria for norm(xk_1 - xk) / max(1, norm(xk)), used by default\n",
    "            tol_g: Minimun value to reach the stopping criteria for norm(grad_k)\n",
    "            tol_f: Minimun value to reach the stopping criteria for norm(f(xk_1) - f(xk)) / max(1, norm(f(xk)))\n",
    "            f: Function to minimize\n",
    "            g: Gradient of f\n",
    "            h: Hessian of f\n",
    "            msg: Type of computation for the step length (alpha)\n",
    "                valid options are 'StepHess', 'Backtracking', 'StepFixed'\n",
    "            \n",
    "            alpha(float): Step size, required when 'msg'='StepFixed'\n",
    "            backtraking_options(Dict): Dictionary with the Backtraking options; 'alpha', 'ro', 'c1'\n",
    "            \n",
    "            \n",
    "        Returns:\n",
    "            A tuple with the [ ||x_k+1 − x_k || ], [ f(x_k) ], [ grad(f(x_k)) ] values\n",
    "            \n",
    "    \"\"\"\n",
    "    Result = namedtuple('Result', 'x_log f_log stop_x_log stop_f_log stop_g_log')\n",
    "    \n",
    "    # History of values computed\n",
    "    x_log = []\n",
    "    f_log = []\n",
    "    stop_x_log = []\n",
    "    stop_f_log = []\n",
    "    stop_g_log = []\n",
    "    \n",
    "    # Initials values\n",
    "    alpha_k = kwargs.get('alpha', 0.001)\n",
    "    x_k = x_0\n",
    "    x_k_next = None\n",
    "    \n",
    "    # Stop criterias\n",
    "    stop_x = lambda x_k, x_k_next: np.linalg.norm(x_k_next - x_k) / max(np.linalg.norm(x_k), 1.0)\n",
    "    stop_f = lambda x_k, x_k_next, f: np.abs(f(x_k_next) - f(x_k)) / max(np.abs(f(x_k)), 1.0)\n",
    "    stop_g = lambda grad_k: np.linalg.norm(grad_k)\n",
    "\n",
    "    step = 0\n",
    "    while True:\n",
    "        # Compute gradient\n",
    "        grad_k = g(x_k)\n",
    "\n",
    "        # Compute step size\n",
    "        if msg == 'StepHess':\n",
    "            alpha_k = (grad_k @ grad_k) / (grad_k @ H(x_k) @ grad_k)\n",
    "        elif msg == 'Backtracking':\n",
    "            alpha_k = _back_tracking(x_k, grad_k, f, **kwargs.get('backtraking_options', {}))\n",
    "        else:\n",
    "            pass # value from alpha param\n",
    "\n",
    "        # Compute next x\n",
    "        x_k_next = x_k - alpha_k * grad_k\n",
    "        \n",
    "        # Save algorithm logs\n",
    "        x_log.append(x_k)\n",
    "        f_log.append(f(x_k))\n",
    "        stop_x_log.append(stop_x(x_k, x_k_next))\n",
    "        stop_g_log.append(stop_g(grad_k))\n",
    "        stop_f_log.append(stop_f(x_k, x_k_next, f))\n",
    "        \n",
    "        if kwargs.get('log', False) and step % kwargs.get('step_log', 100) == 0:\n",
    "            print(f_log[-1], stop_x_log[-1], stop_g_log[-1], stop_f_log[-1])\n",
    "\n",
    "        # Stop criteria\n",
    "        if mxitr < step:\n",
    "            break\n",
    "        if stop_x_log[-1] < tol_x:\n",
    "            break\n",
    "        if stop_g_log[-1] < tol_g:\n",
    "            break\n",
    "        if stop_f_log[-1] < tol_f:\n",
    "            break\n",
    "\n",
    "        # Update x_k\n",
    "        x_k = x_k_next\n",
    "        step += 1\n",
    "\n",
    "    return Result(np.array(x_log), np.array(f_log), np.array(stop_x_log), np.array(stop_f_log), np.array(stop_g_log))\n"
   ]
  },
  {
   "cell_type": "markdown",
   "metadata": {
    "colab_type": "text",
    "id": "gHcjyErCvJ1T"
   },
   "source": [
    "# Evaluaciónes de F1"
   ]
  },
  {
   "cell_type": "code",
   "execution_count": 18,
   "metadata": {
    "cellView": "form",
    "colab": {
     "base_uri": "https://localhost:8080/",
     "height": 756
    },
    "colab_type": "code",
    "id": "3SvDmlgFu-Ka",
    "outputId": "1d8cdeee-093d-4762-86c4-3e65cef58a1b"
   },
   "outputs": [
    {
     "name": "stdout",
     "output_type": "stream",
     "text": [
      "Iterations: 4670\n",
      "X* =  [1. 1.]\n"
     ]
    },
    {
     "data": {
      "image/png": "[encoded data removed]",
      "text/plain": [
       "<Figure size 864x576 with 1 Axes>"
      ]
     },
     "metadata": {
      "needs_background": "light",
      "tags": []
     },
     "output_type": "display_data"
    },
    {
     "name": "stdout",
     "output_type": "stream",
     "text": [
      "\\begin{table}[]\n",
      "\\begin{tabular}{@{}llll@{}}\n",
      "k & $||x\\_{k+1}-x_k||$ & $||\\nabla f(x_k)||$ & $f(x_k)$ \\\\\n",
      "\\midrule\n",
      "1  &  1.547798E-01 &  2.328677E+02   &  -3.916000E+01  \\\\\n",
      "2  &  2.784227E-02 &  3.094498E+01   &  -1.581861E+00  \\\\\n",
      "3  &  1.075694E-02 &  1.948900E+00   &  4.745193E+00  \\\\\n",
      "4668  &  3.813868E-11 &  1.637949E-09   &  -3.967826E-10 \\\\\n",
      "4669  &  1.638340E-12 &  7.034957E-11   &  -3.076428E-11  \\\\\n",
      "4670  &  3.090265E-11 &  1.338410E-09   &  -3.244516E-10  \n",
      "\\end{tabular}\n",
      "\\end{table}\n"
     ]
    }
   ],
   "source": [
    "#@title F1 with stepHess\n",
    "\n",
    "x = np.array([-1.2, 1.0], dtype=np.float64)\n",
    "\n",
    "params = {\n",
    "    'x_0': x,\n",
    "    'f': f1,\n",
    "    'g': f1_grad,\n",
    "    'H': f1_hess,\n",
    "    'mxitr': 10000,\n",
    "    'tol_x': 1e-12,\n",
    "    'tol_g': 1e-12,\n",
    "    'tol_f': 1e-12,\n",
    "    'msg':'StepHess',\n",
    "    'alpha': 0.001,\n",
    "    'backtraking_options': {\n",
    "        'alpha': 1.0, \n",
    "        'ro': 0.95, \n",
    "        'c1': 1E-4,\n",
    "    },\n",
    "}\n",
    "\n",
    "results_f1_1 = gradient_descent(**params)\n",
    "print(\"Iterations:\", len(results_f1_1.x_log))\n",
    "print('X* = ', results_f1_1.x_log[-1])\n",
    "\n",
    "plot_contour(results_f1_1.x_log, funct=f1, start=(-5, -20), end=(3, 10), size=(30, 30))\n",
    "\n",
    "latex_table(results_f1_1.x_log, f1, f1_grad)"
   ]
  },
  {
   "cell_type": "code",
   "execution_count": 19,
   "metadata": {
    "cellView": "form",
    "colab": {
     "base_uri": "https://localhost:8080/",
     "height": 756
    },
    "colab_type": "code",
    "id": "s8QugHRuvmPx",
    "outputId": "3f8f9b8a-b8de-4e5d-e747-6d77e8badeba"
   },
   "outputs": [
    {
     "name": "stdout",
     "output_type": "stream",
     "text": [
      "Iterations: 10002\n",
      "X* =  [0.99996922 0.99993825]\n"
     ]
    },
    {
     "data": {
      "image/png": "[encoded data removed]",
      "text/plain": [
       "<Figure size 864x576 with 1 Axes>"
      ]
     },
     "metadata": {
      "needs_background": "light",
      "tags": []
     },
     "output_type": "display_data"
    },
    {
     "name": "stdout",
     "output_type": "stream",
     "text": [
      "\\begin{table}[]\n",
      "\\begin{tabular}{@{}llll@{}}\n",
      "k & $||x\\_{k+1}-x_k||$ & $||\\nabla f(x_k)||$ & $f(x_k)$ \\\\\n",
      "\\midrule\n",
      "1  &  1.145760E+00 &  1.338602E+04   &  -1.096000E+03  \\\\\n",
      "2  &  8.254502E-01 &  4.111110E+03   &  -5.300356E+02  \\\\\n",
      "3  &  6.425282E-01 &  1.300948E+03   &  -2.748457E+02  \\\\\n",
      "10000  &  7.740560E-08 &  3.874305E-05   &  -1.841706E-05 \\\\\n",
      "10001  &  7.850808E-08 &  3.929487E-05   &  -6.087296E-06  \\\\\n",
      "10002  &  7.728221E-08 &  3.868129E-05   &  -1.838770E-05  \n",
      "\\end{tabular}\n",
      "\\end{table}\n"
     ]
    }
   ],
   "source": [
    "#@title F1 with stepHess x random\n",
    "\n",
    "x = np.array([3, -2], dtype=np.float64)\n",
    "\n",
    "params = {\n",
    "    'x_0': x,\n",
    "    'f': f1,\n",
    "    'g': f1_grad,\n",
    "    'H': f1_hess,\n",
    "    'mxitr': 10000,\n",
    "    'tol_x': 1e-12,\n",
    "    'tol_g': 1e-12,\n",
    "    'tol_f': 1e-12,\n",
    "    'msg':'StepHess',\n",
    "    'alpha': 0.001,\n",
    "    'backtraking_options': {\n",
    "        'alpha': 1.0, \n",
    "        'ro': 0.95, \n",
    "        'c1': 1E-4,\n",
    "    },\n",
    "}\n",
    "\n",
    "results_f1_1 = gradient_descent(**params)\n",
    "print(\"Iterations:\", len(results_f1_1.x_log))\n",
    "print('X* = ', results_f1_1.x_log[-1])\n",
    "plot_contour(results_f1_1.x_log, funct=f1, start=(-2, -2.5), end=(3.3, 2), size=(30, 30))\n",
    "\n",
    "latex_table(results_f1_1.x_log, f1, f1_grad)"
   ]
  },
  {
   "cell_type": "code",
   "execution_count": 21,
   "metadata": {
    "cellView": "both",
    "colab": {
     "base_uri": "https://localhost:8080/",
     "height": 756
    },
    "colab_type": "code",
    "id": "NExJywV1v1WF",
    "outputId": "1c90784a-549b-4d3e-8ebe-67a611f3bbe4"
   },
   "outputs": [
    {
     "name": "stdout",
     "output_type": "stream",
     "text": [
      "Iterations: 10002\n",
      "X* =  [0.99235893 0.98474553]\n"
     ]
    },
    {
     "data": {
      "image/png": "[encoded data removed]",
      "text/plain": [
       "<Figure size 864x576 with 1 Axes>"
      ]
     },
     "metadata": {
      "needs_background": "light",
      "tags": []
     },
     "output_type": "display_data"
    },
    {
     "name": "stdout",
     "output_type": "stream",
     "text": [
      "\\begin{table}[]\n",
      "\\begin{tabular}{@{}llll@{}}\n",
      "k & $||x\\_{k+1}-x_k||$ & $||\\nabla f(x_k)||$ & $f(x_k)$ \\\\\n",
      "\\midrule\n",
      "1  &  1.145760E+00 &  1.338602E+04   &  -1.096000E+03  \\\\\n",
      "2  &  8.254502E-01 &  4.111110E+03   &  -5.300356E+02  \\\\\n",
      "3  &  6.425282E-01 &  1.300948E+03   &  -2.748457E+02  \\\\\n",
      "10000  &  7.740560E-08 &  3.874305E-05   &  -1.841706E-05 \\\\\n",
      "10001  &  7.850808E-08 &  3.929487E-05   &  -6.087296E-06  \\\\\n",
      "10002  &  7.728221E-08 &  3.868129E-05   &  -1.838770E-05  \n",
      "\\end{tabular}\n",
      "\\end{table}\n"
     ]
    }
   ],
   "source": [
    "#@title F1 with step fixed\n",
    "\n",
    "x = np.array([-1.2, 1.0], dtype=np.float64)\n",
    "\n",
    "params = {\n",
    "    'x_0': x,\n",
    "    'f': f1,\n",
    "    'g': f1_grad,\n",
    "    'H': f1_hess,\n",
    "    'mxitr': 10000,\n",
    "    'tol_x': 1e-12,\n",
    "    'tol_g': 1e-12,\n",
    "    'tol_f': 1e-12,\n",
    "    'msg':'StepFixed',\n",
    "    'alpha': 0.001,\n",
    "    'backtraking_options': {\n",
    "        'alpha': 1.0, \n",
    "        'ro': 0.95, \n",
    "        'c1': 1E-4,\n",
    "    },\n",
    "}\n",
    "\n",
    "results_f1_2 = gradient_descent(**params)\n",
    "print(\"Iterations:\", len(results_f1_2.x_log))\n",
    "print('X* = ', results_f1_2.x_log[-1])\n",
    "\n",
    "plot_contour(results_f1_2.x_log, funct=f1, start=(-2, -2), end=(2, 2), size=(30, 30))\n",
    "latex_table(results_f1_1.x_log, f1, f1_grad)"
   ]
  },
  {
   "cell_type": "code",
   "execution_count": 25,
   "metadata": {
    "cellView": "form",
    "colab": {
     "base_uri": "https://localhost:8080/",
     "height": 756
    },
    "colab_type": "code",
    "id": "QeGt1ltUwFUx",
    "outputId": "7745604e-8e85-4c07-9be8-1a03e4a72dd8"
   },
   "outputs": [
    {
     "name": "stdout",
     "output_type": "stream",
     "text": [
      "Iterations: 10002\n",
      "X* =  [1.01513439 1.03055785]\n"
     ]
    },
    {
     "data": {
      "image/png": "[encoded data removed]",
      "text/plain": [
       "<Figure size 864x576 with 1 Axes>"
      ]
     },
     "metadata": {
      "needs_background": "light",
      "tags": []
     },
     "output_type": "display_data"
    },
    {
     "name": "stdout",
     "output_type": "stream",
     "text": [
      "\\begin{table}[]\n",
      "\\begin{tabular}{@{}llll@{}}\n",
      "k & $||x\\_{k+1}-x_k||$ & $||\\nabla f(x_k)||$ & $f(x_k)$ \\\\\n",
      "\\midrule\n",
      "1  &  1.145760E+00 &  1.338602E+04   &  -1.096000E+03  \\\\\n",
      "2  &  8.254502E-01 &  4.111110E+03   &  -5.300356E+02  \\\\\n",
      "3  &  6.425282E-01 &  1.300948E+03   &  -2.748457E+02  \\\\\n",
      "10000  &  7.740560E-08 &  3.874305E-05   &  -1.841706E-05 \\\\\n",
      "10001  &  7.850808E-08 &  3.929487E-05   &  -6.087296E-06  \\\\\n",
      "10002  &  7.728221E-08 &  3.868129E-05   &  -1.838770E-05  \n",
      "\\end{tabular}\n",
      "\\end{table}\n"
     ]
    }
   ],
   "source": [
    "#@title F1 with step fixed x random\n",
    "\n",
    "x = np.array([2.3, 3], dtype=np.float64)\n",
    "\n",
    "params = {\n",
    "    'x_0': x,\n",
    "    'f': f1,\n",
    "    'g': f1_grad,\n",
    "    'H': f1_hess,\n",
    "    'mxitr': 10000,\n",
    "    'tol_x': 1e-12,\n",
    "    'tol_g': 1e-12,\n",
    "    'tol_f': 1e-12,\n",
    "    'msg':'StepFixed',\n",
    "    'alpha': 0.001,\n",
    "    'backtraking_options': {\n",
    "        'alpha': 1.0, \n",
    "        'ro': 0.95, \n",
    "        'c1': 1E-4,\n",
    "    },\n",
    "}\n",
    "\n",
    "results_f1_2 = gradient_descent(**params)\n",
    "print(\"Iterations:\", len(results_f1_2.x_log))\n",
    "print('X* = ', results_f1_2.x_log[-1])\n",
    "\n",
    "plot_contour(results_f1_2.x_log, funct=f1, start=(-3, -3), end=(3, 4), size=(30, 30))\n",
    "latex_table(results_f1_1.x_log, f1, f1_grad)"
   ]
  },
  {
   "cell_type": "code",
   "execution_count": 65,
   "metadata": {
    "cellView": "both",
    "colab": {
     "base_uri": "https://localhost:8080/",
     "height": 756
    },
    "colab_type": "code",
    "id": "s_E1uWldweHI",
    "outputId": "009b7596-c956-414a-8f85-f4fc5c5db2e9"
   },
   "outputs": [
    {
     "name": "stdout",
     "output_type": "stream",
     "text": [
      "Iterations: 1\n",
      "X* =  [-1.2  1. ]\n"
     ]
    },
    {
     "data": {
      "image/png": "[encoded data removed]",
      "text/plain": [
       "<Figure size 864x576 with 1 Axes>"
      ]
     },
     "metadata": {
      "needs_background": "light",
      "tags": []
     },
     "output_type": "display_data"
    },
    {
     "name": "stdout",
     "output_type": "stream",
     "text": [
      "\\begin{table}[]\n",
      "\\begin{tabular}{@{}llll@{}}\n",
      "k & $||x\\_{k+1}-x_k||$ & $||\\nabla f(x_k)||$ & $f(x_k)$ \\\\\n",
      "\\midrule\n",
      "1  &  1.145760E+00 &  1.338602E+04   &  -1.096000E+03  \\\\\n",
      "2  &  8.254502E-01 &  4.111110E+03   &  -5.300356E+02  \\\\\n",
      "3  &  6.425282E-01 &  1.300948E+03   &  -2.748457E+02  \\\\\n",
      "10000  &  7.740560E-08 &  3.874305E-05   &  -1.841706E-05 \\\\\n",
      "10001  &  7.850808E-08 &  3.929487E-05   &  -6.087296E-06  \\\\\n",
      "10002  &  7.728221E-08 &  3.868129E-05   &  -1.838770E-05  \n",
      "\\end{tabular}\n",
      "\\end{table}\n"
     ]
    }
   ],
   "source": [
    "#@title F1 with step Backtracking\n",
    "x = np.array([-1.2, 1.0], dtype=np.float64)\n",
    "\n",
    "params = {\n",
    "    'x_0': x,\n",
    "    'f': f1,\n",
    "    'g': f1_grad,\n",
    "    'H': f1_hess,\n",
    "    'mxitr': 100000,\n",
    "    'tol_x': 1e-12,\n",
    "    'tol_g': 1e-12,\n",
    "    'tol_f': 1e-12,\n",
    "    'alpha': 0.001,\n",
    "    'msg':'Backtracking',\n",
    "    'backtraking_options': {\n",
    "        'alpha': 0.001, \n",
    "        'ro': 0.7,\n",
    "        'c1': 0.08,\n",
    "    },\n",
    "}\n",
    "\n",
    "results_f1_3 = gradient_descent(**params, log=False, step_log=2)\n",
    "print(\"Iterations:\", len(results_f1_3.x_log))\n",
    "print('X* = ', results_f1_3.x_log[-1])\n",
    "\n",
    "plot_contour(results_f1_2.x_log, funct=f1, start=(-3, -3), end=(3, 4), size=(30, 30))\n",
    "latex_table(results_f1_1.x_log, f1, f1_grad)"
   ]
  },
  {
   "cell_type": "markdown",
   "metadata": {
    "colab_type": "text",
    "id": "kW5qbyhr0y8H"
   },
   "source": [
    "# Evaluaciones F2"
   ]
  },
  {
   "cell_type": "code",
   "execution_count": 67,
   "metadata": {
    "colab": {
     "base_uri": "https://localhost:8080/",
     "height": 538
    },
    "colab_type": "code",
    "id": "pluqW3fG02IA",
    "outputId": "4f73dc0f-bdcc-4062-a3e8-e9f1115d9dbe"
   },
   "outputs": [
    {
     "name": "stdout",
     "output_type": "stream",
     "text": [
      "Iterations: 10002\n",
      "X* =  [ 1.00000014  0.99999992  1.00000004  0.99999998  1.          1.\n",
      "  0.99999999  1.00000001  1.          1.          1.          1.\n",
      "  1.          1.          1.          1.          1.          1.\n",
      "  1.          1.          1.          1.          1.          1.\n",
      "  1.          1.          1.          1.          1.          1.\n",
      "  1.          1.          1.          1.          1.          1.\n",
      "  1.          1.          1.          1.          1.          1.\n",
      "  1.          1.          1.          1.          1.          1.\n",
      "  1.          1.          1.          1.          1.          1.\n",
      "  1.          1.          1.          1.          1.          1.\n",
      "  1.          1.          1.          1.          1.          1.\n",
      "  1.          0.99999999  0.99999999  0.99999998  0.99999995  0.9999999\n",
      "  0.99999981  0.99999961  0.99999922  0.99999844  0.99999688  0.99999374\n",
      "  0.99998744  0.99997482  0.99994952  0.9998988   0.9997971   0.99959322\n",
      "  0.99918457  0.99836573  0.99672595  0.9934462   0.98690238  0.97390994\n",
      "  0.94836663  0.89912705  0.80786849  0.65146238  0.42172819  0.17099868\n",
      "  0.00500055 -0.99486478  0.99978185  0.99956288]\n",
      "\\begin{table}[]\n",
      "\\begin{tabular}{@{}llll@{}}\n",
      "k & $||x\\_{k+1}-x_k||$ & $||\\nabla f(x_k)||$ & $f(x_k)$ \\\\\n",
      "\\midrule\n",
      "1  &  6.027981E-01 &  1.025208E+03   &  6.654000E+02  \\\\\n",
      "2  &  3.678791E-01 &  2.666164E+02   &  2.255963E+02  \\\\\n",
      "3  &  2.102711E-01 &  6.223275E+01   &  1.426170E+02  \\\\\n",
      "10000  &  5.010135E-07 &  2.619041E-04   &  1.052182E+02 \\\\\n",
      "10001  &  5.040273E-07 &  2.615473E-04   &  1.052183E+02  \\\\\n",
      "10002  &  5.074632E-07 &  2.611783E-04   &  1.052183E+02  \n",
      "\\end{tabular}\n",
      "\\end{table}\n"
     ]
    }
   ],
   "source": [
    "#@title F2 with stepHess\n",
    "\n",
    "x = np.zeros(100, dtype=np.float64)\n",
    "x[0] = x[-2] = -1.2\n",
    "\n",
    "params = {\n",
    "    'x_0': x,\n",
    "    'f': f2,\n",
    "    'g': f2_grad,\n",
    "    'H': f2_hess,\n",
    "    'mxitr': 10000,\n",
    "    'tol_x': 1e-14,\n",
    "    'tol_g': 1e-14,\n",
    "    'tol_f': 1e-14,\n",
    "    'msg':'StepHess',\n",
    "    'alpha': 0.001,\n",
    "    'backtraking_options': {\n",
    "        'alpha': 1.0, \n",
    "        'ro': 0.95, \n",
    "        'c1': 1E-4,\n",
    "    },\n",
    "}\n",
    "\n",
    "results_f2_1 = gradient_descent(**params)\n",
    "print(\"Iterations:\", len(results_f2_1.x_log))\n",
    "print('X* = ', results_f2_1.x_log[-1])\n",
    "\n",
    "latex_table(results_f2_1.x_log, f2, f2_grad)"
   ]
  },
  {
   "cell_type": "code",
   "execution_count": 70,
   "metadata": {
    "cellView": "form",
    "colab": {
     "base_uri": "https://localhost:8080/",
     "height": 538
    },
    "colab_type": "code",
    "id": "hGGuSt0d1pyt",
    "outputId": "d1fae791-b203-430c-8b03-227aeaaf0259"
   },
   "outputs": [
    {
     "name": "stdout",
     "output_type": "stream",
     "text": [
      "Iterations: 10002\n",
      "X* =  [1.00000002 1.00000001 0.99999998 1.00000003 0.99999998 1.00000001\n",
      " 1.         0.99999998 1.00000003 0.99999996 1.00000004 0.99999996\n",
      " 1.00000004 0.99999996 1.00000004 0.99999997 1.00000003 0.99999998\n",
      " 1.00000002 0.99999999 1.00000001 0.99999999 1.00000001 0.99999999\n",
      " 1.         1.         1.         1.         1.         1.\n",
      " 1.         1.         1.         1.         1.         1.\n",
      " 1.         1.         1.         1.         1.         1.\n",
      " 1.         1.         1.         1.         1.         1.\n",
      " 1.         1.         1.         1.         1.         1.\n",
      " 1.         1.         1.         1.         1.         1.\n",
      " 1.         1.         1.         1.         1.         1.\n",
      " 1.         1.         1.         1.         1.         1.\n",
      " 1.         1.         1.         1.         1.         1.\n",
      " 1.         1.         1.         1.         1.         0.99999999\n",
      " 0.99999999 0.99999998 0.99999995 0.99999991 0.99999982 0.99999964\n",
      " 0.99999927 0.99999854 0.99999707 0.99999413 0.99998824 0.99997642\n",
      " 0.99995275 0.99990532 0.99981027 0.99961982]\n",
      "\\begin{table}[]\n",
      "\\begin{tabular}{@{}llll@{}}\n",
      "k & $||x\\_{k+1}-x_k||$ & $||\\nabla f(x_k)||$ & $f(x_k)$ \\\\\n",
      "\\midrule\n",
      "1  &  1.277631E+00 &  9.491898E+02   &  1.924941E+03  \\\\\n",
      "2  &  2.260324E+00 &  5.317003E+02   &  1.183481E+03  \\\\\n",
      "3  &  1.078246E+00 &  8.278282E+02   &  1.212234E+03  \\\\\n",
      "10000  &  4.170223E-07 &  2.331660E-04   &  4.815531E-08 \\\\\n",
      "10001  &  4.043511E-07 &  2.333264E-04   &  4.808871E-08  \\\\\n",
      "10002  &  3.942199E-07 &  2.329568E-04   &  4.802375E-08  \n",
      "\\end{tabular}\n",
      "\\end{table}\n"
     ]
    }
   ],
   "source": [
    "#@title F2 with stepHess x random\n",
    "\n",
    "x = np.random.rand(100)\n",
    "\n",
    "params = {\n",
    "    'x_0': x,\n",
    "    'f': f2,\n",
    "    'g': f2_grad,\n",
    "    'H': f2_hess,\n",
    "    'mxitr': 10000,\n",
    "    'tol_x': 1e-14,\n",
    "    'tol_g': 1e-14,\n",
    "    'tol_f': 1e-14,\n",
    "    'msg':'StepHess',\n",
    "    'alpha': 0.001,\n",
    "    'backtraking_options': {\n",
    "        'alpha': 1.0, \n",
    "        'ro': 0.95, \n",
    "        'c1': 1E-4,\n",
    "    },\n",
    "}\n",
    "\n",
    "results_f2_1 = gradient_descent(**params)\n",
    "print(\"Iterations:\", len(results_f2_1.x_log))\n",
    "print('X* = ', results_f2_1.x_log[-1])\n",
    "\n",
    "latex_table(results_f2_1.x_log, f2, f2_grad)"
   ]
  },
  {
   "cell_type": "code",
   "execution_count": 75,
   "metadata": {
    "cellView": "form",
    "colab": {
     "base_uri": "https://localhost:8080/",
     "height": 538
    },
    "colab_type": "code",
    "id": "24Zk4kcb0q7I",
    "outputId": "29c5c7a6-ef08-4f94-cca9-c2484f992748"
   },
   "outputs": [
    {
     "name": "stdout",
     "output_type": "stream",
     "text": [
      "Iterations: 10002\n",
      "X* =  [-0.99497475  1.          1.          1.          1.          1.\n",
      "  1.          1.          1.          1.          1.          1.\n",
      "  1.          1.          1.          1.          1.          1.\n",
      "  1.          1.          1.          1.          1.          1.\n",
      "  1.          1.          1.          1.          1.          1.\n",
      "  1.          1.          1.          1.          1.          1.\n",
      "  1.          1.          1.          1.          1.          1.\n",
      "  1.          1.          1.          1.          1.          1.\n",
      "  1.          1.          1.          1.          1.          1.\n",
      "  1.          1.          1.          1.          1.          1.\n",
      "  1.          1.          1.          1.          1.          1.\n",
      "  1.          1.          1.          1.          1.          1.\n",
      "  1.          1.          1.          1.          1.          1.\n",
      "  0.99999999  0.99999999  0.99999998  0.99999995  0.99999991  0.99999981\n",
      "  0.99999963  0.99999925  0.9999985   0.999997    0.99999399  0.99998795\n",
      "  0.99997586  0.99995163  0.99990306  0.99980575  0.99961076  0.99922012\n",
      "  0.99843773  0.99687166  0.99374058  0.98749521]\n",
      "\\begin{table}[]\n",
      "\\begin{tabular}{@{}llll@{}}\n",
      "k & $||x\\_{k+1}-x_k||$ & $||\\nabla f(x_k)||$ & $f(x_k)$ \\\\\n",
      "\\midrule\n",
      "1  &  1.277631E+00 &  9.491898E+02   &  1.924941E+03  \\\\\n",
      "2  &  2.260324E+00 &  5.317003E+02   &  1.183481E+03  \\\\\n",
      "3  &  1.078246E+00 &  8.278282E+02   &  1.212234E+03  \\\\\n",
      "10000  &  4.170223E-07 &  2.331660E-04   &  4.815531E-08 \\\\\n",
      "10001  &  4.043511E-07 &  2.333264E-04   &  4.808871E-08  \\\\\n",
      "10002  &  3.942199E-07 &  2.329568E-04   &  4.802375E-08  \n",
      "\\end{tabular}\n",
      "\\end{table}\n"
     ]
    }
   ],
   "source": [
    "#@title F2 with step fixed\n",
    "\n",
    "x = np.zeros(100, dtype=np.float64)\n",
    "x[0] = x[-2] = -1.2\n",
    "\n",
    "params = {\n",
    "    'x_0': x,\n",
    "    'f': f2,\n",
    "    'g': f2_grad,\n",
    "    'H': f2_hess,\n",
    "    'mxitr': 10000,\n",
    "    'tol_x': 1e-12,\n",
    "    'tol_g': 1e-12,\n",
    "    'tol_f': 1e-12,\n",
    "    'msg':'StepFixed',\n",
    "    'alpha': 0.001,\n",
    "    'backtraking_options': {\n",
    "        'alpha': 1.0, \n",
    "        'ro': 0.95, \n",
    "        'c1': 1E-4,\n",
    "    },\n",
    "}\n",
    "\n",
    "results_f2_2 = gradient_descent(**params)\n",
    "print(\"Iterations:\", len(results_f2_2.x_log))\n",
    "print('X* = ', results_f2_2.x_log[-1])\n",
    "\n",
    "latex_table(results_f2_1.x_log, f2, f2_grad)"
   ]
  },
  {
   "cell_type": "code",
   "execution_count": 74,
   "metadata": {
    "colab": {
     "base_uri": "https://localhost:8080/",
     "height": 538
    },
    "colab_type": "code",
    "id": "VqIMIgRT2NtH",
    "outputId": "b9b984c5-9893-4a39-cf8a-2cac20cfcbf7"
   },
   "outputs": [
    {
     "name": "stdout",
     "output_type": "stream",
     "text": [
      "Iterations: 10002\n",
      "X* =  [1.         1.         1.         1.         1.         1.\n",
      " 1.         1.         1.         1.         1.         1.\n",
      " 1.         1.         1.         1.         1.         1.\n",
      " 1.         1.         1.         1.         1.         1.\n",
      " 1.         1.         1.         1.         1.         1.\n",
      " 1.         1.         1.         1.         1.         1.\n",
      " 1.         1.         1.         1.         1.         1.\n",
      " 1.         1.         1.         1.         1.         1.\n",
      " 1.         1.         1.         1.         1.         1.\n",
      " 1.         1.         1.         1.         1.         1.\n",
      " 1.         1.         1.         1.         1.         1.\n",
      " 1.         1.         1.         1.         1.         1.\n",
      " 1.         1.         1.         1.         1.         1.\n",
      " 1.         0.99999999 0.99999999 0.99999997 0.99999994 0.99999989\n",
      " 0.99999978 0.99999956 0.99999911 0.99999822 0.99999643 0.99999285\n",
      " 0.99998567 0.99997129 0.99994246 0.99988469 0.99976893 0.999537\n",
      " 0.99907236 0.99814186 0.99627974 0.9925584 ]\n",
      "\\begin{table}[]\n",
      "\\begin{tabular}{@{}llll@{}}\n",
      "k & $||x\\_{k+1}-x_k||$ & $||\\nabla f(x_k)||$ & $f(x_k)$ \\\\\n",
      "\\midrule\n",
      "1  &  1.277631E+00 &  9.491898E+02   &  1.924941E+03  \\\\\n",
      "2  &  2.260324E+00 &  5.317003E+02   &  1.183481E+03  \\\\\n",
      "3  &  1.078246E+00 &  8.278282E+02   &  1.212234E+03  \\\\\n",
      "10000  &  4.170223E-07 &  2.331660E-04   &  4.815531E-08 \\\\\n",
      "10001  &  4.043511E-07 &  2.333264E-04   &  4.808871E-08  \\\\\n",
      "10002  &  3.942199E-07 &  2.329568E-04   &  4.802375E-08  \n",
      "\\end{tabular}\n",
      "\\end{table}\n"
     ]
    }
   ],
   "source": [
    "#@title F2 with step fixed x random\n",
    "\n",
    "x = np.random.rand(100)\n",
    "\n",
    "params = {\n",
    "    'x_0': x,\n",
    "    'f': f2,\n",
    "    'g': f2_grad,\n",
    "    'H': f2_hess,\n",
    "    'mxitr': 10000,\n",
    "    'tol_x': 1e-12,\n",
    "    'tol_g': 1e-12,\n",
    "    'tol_f': 1e-12,\n",
    "    'msg':'StepFixed',\n",
    "    'alpha': 0.001,\n",
    "    'backtraking_options': {\n",
    "        'alpha': 1.0, \n",
    "        'ro': 0.95, \n",
    "        'c1': 1E-4,\n",
    "    },\n",
    "}\n",
    "\n",
    "results_f2_2 = gradient_descent(**params)\n",
    "print(\"Iterations:\", len(results_f2_2.x_log))\n",
    "print('X* = ', results_f2_2.x_log[-1])\n",
    "\n",
    "latex_table(results_f2_1.x_log, f2, f2_grad)"
   ]
  },
  {
   "cell_type": "code",
   "execution_count": 79,
   "metadata": {
    "colab": {
     "base_uri": "https://localhost:8080/",
     "height": 538
    },
    "colab_type": "code",
    "id": "wnw95hsy24U7",
    "outputId": "7634ed47-0f5d-4259-a4d3-ed911abe5e40"
   },
   "outputs": [
    {
     "name": "stdout",
     "output_type": "stream",
     "text": [
      "Iterations: 11\n",
      "X* =  [-0.29511747  0.01824488  0.01824488  0.01824488  0.01824488  0.01824488\n",
      "  0.01824488  0.01824488  0.01824488  0.01824488  0.01824488  0.01824488\n",
      "  0.01824488  0.01824488  0.01824488  0.01824488  0.01824488  0.01824488\n",
      "  0.01824488  0.01824488  0.01824488  0.01824488  0.01824488  0.01824488\n",
      "  0.01824488  0.01824488  0.01824488  0.01824488  0.01824488  0.01824488\n",
      "  0.01824488  0.01824488  0.01824488  0.01824488  0.01824488  0.01824488\n",
      "  0.01824488  0.01824488  0.01824488  0.01824488  0.01824488  0.01824488\n",
      "  0.01824488  0.01824488  0.01824488  0.01824488  0.01824488  0.01824488\n",
      "  0.01824488  0.01824488  0.01824488  0.01824488  0.01824488  0.01824488\n",
      "  0.01824488  0.01824488  0.01824488  0.01824488  0.01824488  0.01824488\n",
      "  0.01824488  0.01824488  0.01824488  0.01824488  0.01824488  0.01824488\n",
      "  0.01824488  0.01824488  0.01824488  0.01824488  0.01824488  0.01824488\n",
      "  0.01824488  0.01824488  0.01824488  0.01824488  0.01824488  0.01824488\n",
      "  0.01824488  0.01824488  0.01824488  0.01824488  0.01824488  0.01824488\n",
      "  0.01824488  0.01824488  0.01824488  0.01824488  0.01824488  0.01824488\n",
      "  0.01824488  0.01824488  0.01824488  0.01824488  0.01824487  0.01824389\n",
      "  0.01810965  0.00851786 -0.50529858  0.2632562 ]\n",
      "\\begin{table}[]\n",
      "\\begin{tabular}{@{}llll@{}}\n",
      "k & $||x\\_{k+1}-x_k||$ & $||\\nabla f(x_k)||$ & $f(x_k)$ \\\\\n",
      "\\midrule\n",
      "1  &  1.277631E+00 &  9.491898E+02   &  1.924941E+03  \\\\\n",
      "2  &  2.260324E+00 &  5.317003E+02   &  1.183481E+03  \\\\\n",
      "3  &  1.078246E+00 &  8.278282E+02   &  1.212234E+03  \\\\\n",
      "10000  &  4.170223E-07 &  2.331660E-04   &  4.815531E-08 \\\\\n",
      "10001  &  4.043511E-07 &  2.333264E-04   &  4.808871E-08  \\\\\n",
      "10002  &  3.942199E-07 &  2.329568E-04   &  4.802375E-08  \n",
      "\\end{tabular}\n",
      "\\end{table}\n"
     ]
    }
   ],
   "source": [
    "#@title F2 with step Backtracking\n",
    "\n",
    "x = np.zeros(100, dtype=np.float64)\n",
    "x[0] = x[-2] = -1.2\n",
    "\n",
    "params = {\n",
    "    'x_0': x,\n",
    "    'f': f2,\n",
    "    'g': f2_grad,\n",
    "    'H': f2_hess,\n",
    "    'mxitr': 100000,\n",
    "    'tol_x': 1e-12,\n",
    "    'tol_g': 1e-12,\n",
    "    'tol_f': 1e-12,\n",
    "    'alpha': 0.001,\n",
    "    'msg':'Backtracking',\n",
    "    'backtraking_options': {\n",
    "        'alpha': 0.001, \n",
    "        'ro': 0.9,\n",
    "        'c1': 0.0004,\n",
    "    },\n",
    "}\n",
    "\n",
    "results_f2_3 = gradient_descent(**params, log=False, step_log=2)\n",
    "print(\"Iterations:\", len(results_f2_3.x_log))\n",
    "print('X* = ', results_f2_3.x_log[-1])\n",
    "\n",
    "latex_table(results_f2_1.x_log, f2, f2_grad)"
   ]
  },
  {
   "cell_type": "markdown",
   "metadata": {
    "colab_type": "text",
    "id": "S9_8UdtE3KE1"
   },
   "source": [
    "# Evaluaciones F3"
   ]
  },
  {
   "cell_type": "code",
   "execution_count": 80,
   "metadata": {
    "colab": {
     "base_uri": "https://localhost:8080/",
     "height": 260
    },
    "colab_type": "code",
    "id": "Po0rTknm3NSh",
    "outputId": "dd57d184-c565-417c-bd5a-7e1c2c595f98"
   },
   "outputs": [
    {
     "name": "stdout",
     "output_type": "stream",
     "text": [
      "Iterations: 10002\n",
      "X* =  [1.00638707 1.01280081 0.99358826 0.98719355]\n",
      "\\begin{table}[]\n",
      "\\begin{tabular}{@{}llll@{}}\n",
      "k & $||x\\_{k+1}-x_k||$ & $||\\nabla f(x_k)||$ & $f(x_k)$ \\\\\n",
      "\\midrule\n",
      "1  &  1.520915E+00 &  1.639713E+04   &  1.019200E+04  \\\\\n",
      "2  &  1.064475E+00 &  4.969228E+03   &  2.672898E+03  \\\\\n",
      "3  &  7.732140E-01 &  1.521797E+03   &  7.484454E+02  \\\\\n",
      "10000  &  4.225988E-05 &  2.138291E-02   &  1.563470E-03 \\\\\n",
      "10001  &  3.914430E-05 &  1.982988E-02   &  -4.854982E-03  \\\\\n",
      "10002  &  4.214118E-05 &  2.132221E-02   &  1.558644E-03  \n",
      "\\end{tabular}\n",
      "\\end{table}\n"
     ]
    }
   ],
   "source": [
    "#@title F3 with stepHess\n",
    "\n",
    "x = np.array([-3, -1, -3, -1], dtype=np.float64)\n",
    "\n",
    "params = {\n",
    "    'x_0': x,\n",
    "    'f': f3,\n",
    "    'g': f3_grad,\n",
    "    'H': f3_hess,\n",
    "    'mxitr': 10000,\n",
    "    'tol_x': 1e-14,\n",
    "    'tol_g': 1e-14,\n",
    "    'tol_f': 1e-14,\n",
    "    'msg':'StepHess',\n",
    "    'alpha': 0.001,\n",
    "    'backtraking_options': {\n",
    "        'alpha': 1.0, \n",
    "        'ro': 0.95, \n",
    "        'c1': 1E-4,\n",
    "    },\n",
    "}\n",
    "\n",
    "results_f3_1 = gradient_descent(**params)\n",
    "print(\"Iterations:\", len(results_f3_1.x_log))\n",
    "print('X* = ', results_f3_1.x_log[-1])\n",
    "\n",
    "latex_table(results_f3_1.x_log, f3, f3_grad)"
   ]
  },
  {
   "cell_type": "code",
   "execution_count": 81,
   "metadata": {
    "cellView": "form",
    "colab": {
     "base_uri": "https://localhost:8080/",
     "height": 260
    },
    "colab_type": "code",
    "id": "YYuihldS3dUE",
    "outputId": "7624c841-d548-495f-cc43-9ae8ab1f0538"
   },
   "outputs": [
    {
     "name": "stdout",
     "output_type": "stream",
     "text": [
      "Iterations: 10002\n",
      "X* =  [0.99999998 0.99999996 1.00000002 1.00000004]\n",
      "\\begin{table}[]\n",
      "\\begin{tabular}{@{}llll@{}}\n",
      "k & $||x\\_{k+1}-x_k||$ & $||\\nabla f(x_k)||$ & $f(x_k)$ \\\\\n",
      "\\midrule\n",
      "1  &  8.344961E-01 &  2.090938E+02   &  -7.464740E+01  \\\\\n",
      "2  &  2.139071E-01 &  2.034307E+02   &  5.124507E+01  \\\\\n",
      "3  &  9.193321E-02 &  4.149943E+01   &  1.520606E+01  \\\\\n",
      "10000  &  1.394707E-10 &  6.982503E-08   &  -4.675136E-09 \\\\\n",
      "10001  &  1.284017E-10 &  6.436736E-08   &  1.632233E-08  \\\\\n",
      "10002  &  1.390694E-10 &  6.962422E-08   &  -4.661681E-09  \n",
      "\\end{tabular}\n",
      "\\end{table}\n"
     ]
    }
   ],
   "source": [
    "#@title F3 with stepHess x random\n",
    "\n",
    "x = np.random.rand(4)\n",
    "\n",
    "params = {\n",
    "    'x_0': x,\n",
    "    'f': f3,\n",
    "    'g': f3_grad,\n",
    "    'H': f3_hess,\n",
    "    'mxitr': 10000,\n",
    "    'tol_x': 1e-14,\n",
    "    'tol_g': 1e-14,\n",
    "    'tol_f': 1e-14,\n",
    "    'msg':'StepHess',\n",
    "    'alpha': 0.001,\n",
    "    'backtraking_options': {\n",
    "        'alpha': 1.0, \n",
    "        'ro': 0.95, \n",
    "        'c1': 1E-4,\n",
    "    },\n",
    "}\n",
    "\n",
    "results_f3_1 = gradient_descent(**params)\n",
    "print(\"Iterations:\", len(results_f3_1.x_log))\n",
    "print('X* = ', results_f3_1.x_log[-1])\n",
    "\n",
    "latex_table(results_f3_1.x_log, f3, f3_grad)"
   ]
  },
  {
   "cell_type": "code",
   "execution_count": 89,
   "metadata": {
    "cellView": "form",
    "colab": {
     "base_uri": "https://localhost:8080/",
     "height": 260
    },
    "colab_type": "code",
    "id": "V8EcqUui30bV",
    "outputId": "82730ed8-75eb-4931-81fe-b96295460000"
   },
   "outputs": [
    {
     "name": "stdout",
     "output_type": "stream",
     "text": [
      "Iterations: 10002\n",
      "X* =  [-0.96603336  0.94339565 -0.97145026  0.95499064]\n",
      "\\begin{table}[]\n",
      "\\begin{tabular}{@{}llll@{}}\n",
      "k & $||x\\_{k+1}-x_k||$ & $||\\nabla f(x_k)||$ & $f(x_k)$ \\\\\n",
      "\\midrule\n",
      "1  &  8.344961E-01 &  2.090938E+02   &  -7.464740E+01  \\\\\n",
      "2  &  2.139071E-01 &  2.034307E+02   &  5.124507E+01  \\\\\n",
      "3  &  9.193321E-02 &  4.149943E+01   &  1.520606E+01  \\\\\n",
      "10000  &  1.394707E-10 &  6.982503E-08   &  -4.675136E-09 \\\\\n",
      "10001  &  1.284017E-10 &  6.436736E-08   &  1.632233E-08  \\\\\n",
      "10002  &  1.390694E-10 &  6.962422E-08   &  -4.661681E-09  \n",
      "\\end{tabular}\n",
      "\\end{table}\n"
     ]
    }
   ],
   "source": [
    "#@title F3 with step fixed\n",
    "\n",
    "x = np.array([-3, -1, -3, -1], dtype=np.float64)\n",
    "\n",
    "params = {\n",
    "    'x_0': x,\n",
    "    'f': f3,\n",
    "    'g': f3_grad,\n",
    "    'H': f3_hess,\n",
    "    'mxitr': 10000,\n",
    "    'tol_x': 1e-12,\n",
    "    'tol_g': 1e-12,\n",
    "    'tol_f': 1e-12,\n",
    "    'msg':'StepFixed',\n",
    "    'alpha': 0.0001,\n",
    "    'backtraking_options': {\n",
    "        'alpha': 1.0, \n",
    "        'ro': 0.95, \n",
    "        'c1': 1E-4,\n",
    "    },\n",
    "}\n",
    "\n",
    "results_f3_2 = gradient_descent(**params)\n",
    "print(\"Iterations:\", len(results_f3_2.x_log))\n",
    "print('X* = ', results_f3_2.x_log[-1])\n",
    "\n",
    "latex_table(results_f3_1.x_log, f3, f3_grad)"
   ]
  },
  {
   "cell_type": "code",
   "execution_count": 91,
   "metadata": {
    "colab": {
     "base_uri": "https://localhost:8080/",
     "height": 260
    },
    "colab_type": "code",
    "id": "u3rtV8ej4T7P",
    "outputId": "32784465-08ac-4225-e937-2fcbfe2db67a"
   },
   "outputs": [
    {
     "name": "stdout",
     "output_type": "stream",
     "text": [
      "Iterations: 10002\n",
      "X* =  [1.0783332  1.16303915 0.91517768 0.83722966]\n",
      "\\begin{table}[]\n",
      "\\begin{tabular}{@{}llll@{}}\n",
      "k & $||x\\_{k+1}-x_k||$ & $||\\nabla f(x_k)||$ & $f(x_k)$ \\\\\n",
      "\\midrule\n",
      "1  &  8.344961E-01 &  2.090938E+02   &  -7.464740E+01  \\\\\n",
      "2  &  2.139071E-01 &  2.034307E+02   &  5.124507E+01  \\\\\n",
      "3  &  9.193321E-02 &  4.149943E+01   &  1.520606E+01  \\\\\n",
      "10000  &  1.394707E-10 &  6.982503E-08   &  -4.675136E-09 \\\\\n",
      "10001  &  1.284017E-10 &  6.436736E-08   &  1.632233E-08  \\\\\n",
      "10002  &  1.390694E-10 &  6.962422E-08   &  -4.661681E-09  \n",
      "\\end{tabular}\n",
      "\\end{table}\n"
     ]
    }
   ],
   "source": [
    "#@title F3 with step fixed x random\n",
    "\n",
    "x = np.random.rand(4)\n",
    "\n",
    "params = {\n",
    "    'x_0': x,\n",
    "    'f': f3,\n",
    "    'g': f3_grad,\n",
    "    'H': f3_hess,\n",
    "    'mxitr': 10000,\n",
    "    'tol_x': 1e-12,\n",
    "    'tol_g': 1e-12,\n",
    "    'tol_f': 1e-12,\n",
    "    'msg':'StepFixed',\n",
    "    'alpha': 0.0001,\n",
    "    'backtraking_options': {\n",
    "        'alpha': 1.0, \n",
    "        'ro': 0.95, \n",
    "        'c1': 1E-4,\n",
    "    },\n",
    "}\n",
    "\n",
    "results_f3_2 = gradient_descent(**params)\n",
    "print(\"Iterations:\", len(results_f3_2.x_log))\n",
    "print('X* = ', results_f3_2.x_log[-1])\n",
    "\n",
    "latex_table(results_f3_1.x_log, f3, f3_grad)"
   ]
  },
  {
   "cell_type": "code",
   "execution_count": 92,
   "metadata": {
    "cellView": "form",
    "colab": {
     "base_uri": "https://localhost:8080/",
     "height": 260
    },
    "colab_type": "code",
    "id": "Di-W-SM-4eYw",
    "outputId": "01510a26-66dd-42be-93e4-94e06ad27251"
   },
   "outputs": [
    {
     "name": "stdout",
     "output_type": "stream",
     "text": [
      "Iterations: 11\n",
      "X* =  [-1.64769879  8.73138722 -1.0371736   0.94812093]\n",
      "\\begin{table}[]\n",
      "\\begin{tabular}{@{}llll@{}}\n",
      "k & $||x\\_{k+1}-x_k||$ & $||\\nabla f(x_k)||$ & $f(x_k)$ \\\\\n",
      "\\midrule\n",
      "1  &  8.344961E-01 &  2.090938E+02   &  -7.464740E+01  \\\\\n",
      "2  &  2.139071E-01 &  2.034307E+02   &  5.124507E+01  \\\\\n",
      "3  &  9.193321E-02 &  4.149943E+01   &  1.520606E+01  \\\\\n",
      "10000  &  1.394707E-10 &  6.982503E-08   &  -4.675136E-09 \\\\\n",
      "10001  &  1.284017E-10 &  6.436736E-08   &  1.632233E-08  \\\\\n",
      "10002  &  1.390694E-10 &  6.962422E-08   &  -4.661681E-09  \n",
      "\\end{tabular}\n",
      "\\end{table}\n"
     ]
    }
   ],
   "source": [
    "#@title F3 with step Backtracking\n",
    "\n",
    "x = np.array([-3, -1, -3, -1], dtype=np.float64)\n",
    "\n",
    "params = {\n",
    "    'x_0': x,\n",
    "    'f': f3,\n",
    "    'g': f3_grad,\n",
    "    'H': f3_hess,\n",
    "    'mxitr': 100000,\n",
    "    'tol_x': 1e-12,\n",
    "    'tol_g': 1e-12,\n",
    "    'tol_f': 1e-12,\n",
    "    'alpha': 0.001,\n",
    "    'msg':'Backtracking',\n",
    "    'backtraking_options': {\n",
    "        'alpha': 0.001, \n",
    "        'ro': 0.9,\n",
    "        'c1': 0.0004,\n",
    "    },\n",
    "}\n",
    "\n",
    "results_f3_3 = gradient_descent(**params, log=False, step_log=2)\n",
    "print(\"Iterations:\", len(results_f3_3.x_log))\n",
    "print('X* = ', results_f3_3.x_log[-1])\n",
    "\n",
    "latex_table(results_f3_1.x_log, f3, f3_grad)"
   ]
  },
  {
   "cell_type": "code",
   "execution_count": null,
   "metadata": {
    "colab": {},
    "colab_type": "code",
    "id": "ZFJ21b6C3nqR"
   },
   "outputs": [],
   "source": []
  }
 ],
 "metadata": {
  "colab": {
   "collapsed_sections": [],
   "name": "Untitled0.ipynb",
   "provenance": [],
   "toc_visible": true
  },
  "kernelspec": {
   "display_name": "Python 3",
   "language": "python",
   "name": "python3"
  },
  "language_info": {
   "codemirror_mode": {
    "name": "ipython",
    "version": 3
   },
   "file_extension": ".py",
   "mimetype": "text/x-python",
   "name": "python",
   "nbconvert_exporter": "python",
   "pygments_lexer": "ipython3",
   "version": "3.7.6"
  }
 },
 "nbformat": 4,
 "nbformat_minor": 4
}
